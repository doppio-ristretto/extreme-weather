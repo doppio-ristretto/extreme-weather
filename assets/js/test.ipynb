import requests
import json

url = "https://api.weather.gov/alerts/active?area="

CA = requests.get(url + "CA").json()
features = (CA["features"])
activezone = []
for row in features:

    zones = (row["properties"]["affectedZones"])
    for zone in zones:
        activezone.append(zone)

print(activezone)
